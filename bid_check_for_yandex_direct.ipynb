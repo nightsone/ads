{
 "cells": [
  {
   "cell_type": "code",
   "execution_count": 1,
   "id": "9e427062",
   "metadata": {},
   "outputs": [],
   "source": [
    "import requests\n",
    "from requests.exceptions import ConnectionError\n",
    "from time import sleep\n",
    "import json\n",
    "import pandas as pd\n",
    "#from tapi_yandex_direct import YandexDirect\n",
    "import datetime as dt\n",
    "import http.client\n",
    "from io import StringIO\n",
    "#from tapi_yandex_direct import YandexDirect\n",
    "import numpy as np\n",
    "#from pandas import json_normalize\n",
    "from pandas.io.json import json_normalize\n",
    "import smtplib\n",
    "from email import encoders\n",
    "from email.mime.text import MIMEText\n",
    "from email.mime.multipart import MIMEMultipart\n",
    "from email.mime.base import MIMEBase\n",
    "from bs4 import BeautifulSoup as bs\n",
    "import sys\n",
    "from io import StringIO\n"
   ]
  },
  {
   "cell_type": "code",
   "execution_count": 2,
   "id": "ea0bd154",
   "metadata": {
    "collapsed": true
   },
   "outputs": [],
   "source": [
    "if sys.version_info < (3,):\n",
    "    def u(x):\n",
    "        try:\n",
    "            return x.encode(\"utf8\")\n",
    "        except UnicodeDecodeError:\n",
    "            return x\n",
    "else:\n",
    "    def u(x):\n",
    "        if type(x) == type(b''):\n",
    "            return x.decode('utf8')\n",
    "        else:\n",
    "            return x\n",
    "\n",
    "# --- Входные данные ---\n",
    "# Адрес сервиса Reports для отправки JSON-запросов (регистрозависимый)\n",
    "ReportsURL = 'https://api.direct.yandex.com/json/v5/campaigns'\n",
    "\n",
    "# OAuth-токен пользователя, от имени которого будут выполняться запросы\n",
    "token = ''\n",
    "\n",
    "# Логин клиента рекламного агентства\n",
    "# Обязательный параметр, если запросы выполняются от имени рекламного агентства\n",
    "clientLogin = ''\n",
    "\n",
    "# --- Подготовка запроса ---\n",
    "# Создание HTTP-заголовков запроса\n",
    "headers = {\n",
    "           # OAuth-токен. Использование слова Bearer обязательно\n",
    "           \"Authorization\": \"Bearer \" + token,\n",
    "           # Логин клиента рекламного агентства\n",
    "           \"Client-Login\": clientLogin,\n",
    "           # Язык ответных сообщений\n",
    "           \"Accept-Language\": \"ru\",\n",
    "           # Режим формирования отчета\n",
    "           \"processingMode\": \"auto\",\n",
    "           # Формат денежных значений в отчете\n",
    "           # \"returnMoneyInMicros\": \"false\",\n",
    "           # Не выводить в отчете строку с названием отчета и диапазоном дат\n",
    "           \"skipReportHeader\": \"true\",\n",
    "           # Не выводить в отчете строку с названиями полей\n",
    "           # \"skipColumnHeader\": \"true\",\n",
    "           # Не выводить в отчете строку с количеством строк статистики\n",
    "           # \"skipReportSummary\": \"true\"\n",
    "           }\n",
    "\n",
    "# Создание тела запроса\n",
    "body = {\n",
    "\n",
    "  \"method\": \"get\",\n",
    "  \"params\": {\n",
    "    \"SelectionCriteria\": {\n",
    "      \"Types\": [\"TEXT_CAMPAIGN\", \"MOBILE_APP_CAMPAIGN\", \"DYNAMIC_TEXT_CAMPAIGN\", \"CPM_BANNER_CAMPAIGN\", \"SMART_CAMPAIGN\"],\n",
    "      \"States\": [\"ARCHIVED\", \"CONVERTED\", \"ENDED\", \"OFF\", \"ON\", \"SUSPENDED\"],\n",
    "      \"Statuses\": [\"ACCEPTED\", \"DRAFT\", \"MODERATION\", \"REJECTED\"],\n",
    "      #\"StatusesPayment\": [\"DISALLOWED\", \"ALLOWED\"]\n",
    "    },\n",
    "    \"FieldNames\": [\"Name\", \"DailyBudget\"],\n",
    "    }\n",
    "  }\n",
    "\n",
    "body = json.dumps(body, indent=4)\n",
    "\n",
    "req = requests.post(ReportsURL, body, headers=headers)\n",
    "#req.encoding = 'utf-8'  \n",
    "text_req = req.text"
   ]
  },
  {
   "cell_type": "code",
   "execution_count": 3,
   "id": "7da8cb9d",
   "metadata": {
    "collapsed": true
   },
   "outputs": [
    {
     "data": {
      "text/plain": [
       "{'result': {'Campaigns': [{'DailyBudget': {'Amount': 600000000,\n",
       "     'Mode': 'STANDARD'},\n",
       "    'Name': 'ДПО. Гид-экскурсовод - Поиск - Ал'},\n",
       "   {'DailyBudget': {'Amount': 300000000, 'Mode': 'STANDARD'},\n",
       "    'Name': 'ДПО. Гид-экскурсовод (около) - Поиск - Ал'},\n",
       "   {'DailyBudget': {'Amount': 300000000, 'Mode': 'STANDARD'},\n",
       "    'Name': 'ДПО. Управление персоналом - Поиск - Около - Ал'},\n",
       "   {'DailyBudget': {'Amount': 300000000, 'Mode': 'STANDARD'},\n",
       "    'Name': 'ДПО. Управление персоналом - Поиск - Целевая - Ал'},\n",
       "   {'DailyBudget': {'Amount': 300000000, 'Mode': 'STANDARD'},\n",
       "    'Name': 'ДПО. Управление персоналом - РСЯ - Целевая - Ал'},\n",
       "   {'DailyBudget': {'Amount': 300000000, 'Mode': 'STANDARD'},\n",
       "    'Name': 'ДПО. Экономика предприятий и организаций - Поиск - Ал'},\n",
       "   {'DailyBudget': {'Amount': 300000000, 'Mode': 'STANDARD'},\n",
       "    'Name': 'ДПО. Экономика предприятий и организаций - РСЯ - Ал'},\n",
       "   {'DailyBudget': {'Amount': 300000000, 'Mode': 'STANDARD'},\n",
       "    'Name': 'ДПО. АХО - Целевая - Поиск - Ал'},\n",
       "   {'DailyBudget': {'Amount': 300000000, 'Mode': 'STANDARD'},\n",
       "    'Name': 'ДПО. Курсы бухгалтеров - Поиск - Целевая - Ал'},\n",
       "   {'DailyBudget': {'Amount': 300000000, 'Mode': 'STANDARD'},\n",
       "    'Name': 'ДПО. Курсы бухгалтеров - РСЯ - Целевая - Ал'},\n",
       "   {'DailyBudget': {'Amount': 300000000, 'Mode': 'STANDARD'},\n",
       "    'Name': 'ДПО. Менеджер по логистике - РСЯ - Ал'},\n",
       "   {'DailyBudget': {'Amount': 300000000, 'Mode': 'STANDARD'},\n",
       "    'Name': 'ДПО. Нормирование труда - РСЯ - Целевая - Ал'},\n",
       "   {'DailyBudget': {'Amount': 300000000, 'Mode': 'STANDARD'},\n",
       "    'Name': 'ДПО. Оплата труда - РСЯ - Целевая - Ал'},\n",
       "   {'DailyBudget': {'Amount': 300000000, 'Mode': 'STANDARD'},\n",
       "    'Name': 'ДПО. Тьютор - РСЯ - Ал'},\n",
       "   {'DailyBudget': {'Amount': 300000000, 'Mode': 'STANDARD'},\n",
       "    'Name': 'ДПО. Менеджер по туризму - Целевая - РСЯ - Ал'},\n",
       "   {'DailyBudget': {'Amount': 300000000, 'Mode': 'STANDARD'},\n",
       "    'Name': 'ДПО. Администратор фитнес-клуба - РСЯ - Ал'},\n",
       "   {'DailyBudget': {'Amount': 300000000, 'Mode': 'STANDARD'},\n",
       "    'Name': 'ДПО. Методист ДОУ - РСЯ - Ал'},\n",
       "   {'DailyBudget': {'Amount': 300000000, 'Mode': 'STANDARD'},\n",
       "    'Name': 'ДПО. Методист ДОУ - Поиск - Ал'},\n",
       "   {'DailyBudget': {'Amount': 300000000, 'Mode': 'STANDARD'},\n",
       "    'Name': 'ДПО. Социальная работа - Поиск - Ал'},\n",
       "   {'DailyBudget': {'Amount': 300000000, 'Mode': 'STANDARD'},\n",
       "    'Name': 'ДПО. Социальная работа - РСЯ - Ал'},\n",
       "   {'DailyBudget': {'Amount': 500000000, 'Mode': 'STANDARD'},\n",
       "    'Name': 'Переподготовка (РСЯ) - Целевые'},\n",
       "   {'DailyBudget': {'Amount': 300000000, 'Mode': 'STANDARD'},\n",
       "    'Name': 'Менеджмент-в-образовании-Поиск-Целевая-ppc:321-Z:1'},\n",
       "   {'DailyBudget': {'Amount': 300000000, 'Mode': 'STANDARD'},\n",
       "    'Name': 'Социальная-работа-Поиск-Целевая-ppc:321-Z:1'},\n",
       "   {'DailyBudget': {'Amount': 300000000, 'Mode': 'STANDARD'},\n",
       "    'Name': 'Финансовый-контроль-Внутренний-аудит-Поиск-Целевая-ppc:321-Z:1'},\n",
       "   {'DailyBudget': {'Amount': 300000000, 'Mode': 'STANDARD'},\n",
       "    'Name': 'Менеджмент-в-сфере-сервиса-туризма-гостеприимства-Поиск-Целевая-ppc:321-Z:1'},\n",
       "   {'DailyBudget': {'Amount': 300000000, 'Mode': 'STANDARD'},\n",
       "    'Name': 'Бухучёт - Поиск - Целевые - ppc:123 - z:1'},\n",
       "   {'DailyBudget': {'Amount': 300000000, 'Mode': 'STANDARD'},\n",
       "    'Name': 'Гид-экскурсовод - Поиск - Целевые - ppc:123 - z:1'},\n",
       "   {'DailyBudget': {'Amount': 300000000, 'Mode': 'STANDARD'},\n",
       "    'Name': 'АХО - Целевые - Поиск - ppc:123 - z:1'},\n",
       "   {'DailyBudget': {'Amount': 300000000, 'Mode': 'STANDARD'},\n",
       "    'Name': 'HR менеджер - Целевые - Поиск - ppc:123 - z:1'},\n",
       "   {'DailyBudget': {'Amount': 300000000, 'Mode': 'STANDARD'},\n",
       "    'Name': 'Документоведение и архивное дело - Целевые - Поиск - ppc:321 - z:1'},\n",
       "   {'DailyBudget': {'Amount': 300000000, 'Mode': 'STANDARD'},\n",
       "    'Name': 'Менеджер по логистике - Целевые - Поиск - ppc:321 - z:1'},\n",
       "   {'DailyBudget': {'Amount': 300000000, 'Mode': 'STANDARD'},\n",
       "    'Name': 'Бухгалтер малого бизнеса и ИП - Целевые - Поиск - ppc:321 - z:1'},\n",
       "   {'DailyBudget': {'Amount': 300000000, 'Mode': 'STANDARD'},\n",
       "    'Name': 'Судебный пристав - Целевые - Поиск - ppc:321 - z:1'},\n",
       "   {'DailyBudget': {'Amount': 300000000, 'Mode': 'STANDARD'},\n",
       "    'Name': 'Менеджмент в сфере общепита - Поиск - ppc123'},\n",
       "   {'DailyBudget': {'Amount': 300000000, 'Mode': 'STANDARD'},\n",
       "    'Name': 'Нормирование труда (оплата труда) - Поиск - ppc123'},\n",
       "   {'DailyBudget': {'Amount': 300000000, 'Mode': 'STANDARD'},\n",
       "    'Name': 'Тьютор - Поиск - Целевая - ppc123'},\n",
       "   {'DailyBudget': {'Amount': 300000000, 'Mode': 'STANDARD'},\n",
       "    'Name': 'Методист ДОУ - Поиск - ppc123'},\n",
       "   {'DailyBudget': {'Amount': 300000000, 'Mode': 'STANDARD'},\n",
       "    'Name': 'Инклюзивное образование - Целевые - Поиск - ppc:321 - z:1'},\n",
       "   {'DailyBudget': {'Amount': 300000000, 'Mode': 'STANDARD'},\n",
       "    'Name': 'Антикоррупционный стандарт  - Целевые - Поиск - ppc:321 - z:1'},\n",
       "   {'DailyBudget': {'Amount': 300000000, 'Mode': 'STANDARD'},\n",
       "    'Name': 'Правоохранительная деятельность - Участковый - Целевые -Поиск - ppc:321 -z:1'},\n",
       "   {'DailyBudget': {'Amount': 300000000, 'Mode': 'STANDARD'},\n",
       "    'Name': 'Правоохранительная деятельность - Полицейский - Целевые -Поиск - ppc:321 -z:1'},\n",
       "   {'DailyBudget': {'Amount': 300000000, 'Mode': 'STANDARD'},\n",
       "    'Name': 'Правоохранительная деятельность - Криминалист - Целевые -Поиск - ppc:321 -z:1'},\n",
       "   {'DailyBudget': {'Amount': 300000000, 'Mode': 'STANDARD'},\n",
       "    'Name': 'Правоохранительная деятельность - Нотариус- Целевые -Поиск - ppc:321 -z:1'},\n",
       "   {'DailyBudget': {'Amount': 300000000, 'Mode': 'STANDARD'},\n",
       "    'Name': 'Правоохранительная деятельность - Секретарь суда - Целевые -Поиск - ppc:321 -z:1'},\n",
       "   {'DailyBudget': {'Amount': 300000000, 'Mode': 'STANDARD'},\n",
       "    'Name': 'Правоохранительная деятельность - Инспектор ПНД - Целевые -Поиск - ppc:321 -z:1'},\n",
       "   {'DailyBudget': {'Amount': 300000000, 'Mode': 'STANDARD'},\n",
       "    'Name': 'Правоохранительная деятельность - Прокурор - Целевые -Поиск - ppc:321 -z:1'},\n",
       "   {'DailyBudget': {'Amount': 300000000, 'Mode': 'STANDARD'},\n",
       "    'Name': 'Правоохранительная деятельность - Адвокат - Целевые -Поиск - ppc:321 -z:1'},\n",
       "   {'DailyBudget': {'Amount': 300000000, 'Mode': 'STANDARD'},\n",
       "    'Name': 'Правоохранительная деятельность - Следователь - Целевые -Поиск - ppc:321 -z:1'},\n",
       "   {'DailyBudget': {'Amount': 300000000, 'Mode': 'STANDARD'},\n",
       "    'Name': 'Правоохранительная деятельность - Юрист - Целевые -Поиск - ppc:321 -z:1'},\n",
       "   {'DailyBudget': {'Amount': 300000000, 'Mode': 'STANDARD'},\n",
       "    'Name': 'Управленческий учет - Целевые -Поиск - ppc:321 -z:1'},\n",
       "   {'DailyBudget': {'Amount': 300000000, 'Mode': 'STANDARD'},\n",
       "    'Name': 'Бухгалтер аналитик  - Целевые - Поиск - ppc:321 -z:1'},\n",
       "   {'DailyBudget': {'Amount': 300000000, 'Mode': 'STANDARD'},\n",
       "    'Name': 'Аудитор  - Целевые - Поиск - ppc:321 -z:1'},\n",
       "   {'DailyBudget': {'Amount': 300000000, 'Mode': 'STANDARD'},\n",
       "    'Name': 'Финансовое бюджетирование - Целевые - Поиск - ppc:321 -z:1'},\n",
       "   {'DailyBudget': {'Amount': 300000000, 'Mode': 'STANDARD'},\n",
       "    'Name': 'Финансовый директор - Целевые - Поиск - ppc:321 -z:1'},\n",
       "   {'DailyBudget': {'Amount': 300000000, 'Mode': 'STANDARD'},\n",
       "    'Name': 'Экономист-финансист - Целевые - Поиск - ppc:321 -z:1'},\n",
       "   {'DailyBudget': {'Amount': 300000000, 'Mode': 'STANDARD'},\n",
       "    'Name': 'Администратор фитнес-клуба - Целевые - Поиск - ppc:321 -z:1'},\n",
       "   {'DailyBudget': {'Amount': 300000000, 'Mode': 'STANDARD'},\n",
       "    'Name': 'Экономика и управление на предприятии - Целевые - Поиск - ppc:321 -z:1'},\n",
       "   {'DailyBudget': {'Amount': 300000000, 'Mode': 'STANDARD'},\n",
       "    'Name': '1С Зарплата и управление персоналом - Целевые - Поиск - ppc:321 -z:1'},\n",
       "   {'DailyBudget': {'Amount': 300000000, 'Mode': 'STANDARD'},\n",
       "    'Name': 'ЕГЭ русский. Целевые. РСЯ. ppc123. 12.2021'},\n",
       "   {'DailyBudget': {'Amount': 300000000, 'Mode': 'STANDARD'},\n",
       "    'Name': 'ЕГЭ русский. Целевые. Поиск. ppc123. 12.2021'},\n",
       "   {'DailyBudget': {'Amount': 300000000, 'Mode': 'STANDARD'},\n",
       "    'Name': 'ЕГЭ английский. Целевые. Поиск. ppc123. 12.2021'},\n",
       "   {'DailyBudget': {'Amount': 300000000, 'Mode': 'STANDARD'},\n",
       "    'Name': 'Трудовой договор  - Целевые - Поиск - ppc:321 -z:1'},\n",
       "   {'DailyBudget': {'Amount': 300000000, 'Mode': 'STANDARD'},\n",
       "    'Name': 'Юридическая деятельность в ГМУ  - Целевые - Поиск - ppc:321 - z:1'},\n",
       "   {'DailyBudget': {'Amount': 300000000, 'Mode': 'STANDARD'},\n",
       "    'Name': 'Копия ЕГЭ английский. Целевые. Поиск. ppc123. 12.2021'},\n",
       "   {'DailyBudget': {'Amount': 300000000, 'Mode': 'STANDARD'},\n",
       "    'Name': 'Юридическая психология Целевые. Поиск. ppc321. 12.2021'},\n",
       "   {'DailyBudget': {'Amount': 300000000, 'Mode': 'STANDARD'},\n",
       "    'Name': 'Основы криминологии и профайлинга Целевые. Поиск. ppc321. 12.2021'},\n",
       "   {'DailyBudget': {'Amount': 300000000, 'Mode': 'STANDARD'},\n",
       "    'Name': 'Инвентаризация земель - Целевые - Поиск - ppc:321'},\n",
       "   {'DailyBudget': {'Amount': 300000000, 'Mode': 'STANDARD'},\n",
       "    'Name': 'Судебная-медицина в правоохранительной деятельности  - Целевые - Поиск - ppc:321'},\n",
       "   {'DailyBudget': {'Amount': 300000000, 'Mode': 'STANDARD'},\n",
       "    'Name': 'Ремаркетинг РСЯ ppc:321'}]}}"
      ]
     },
     "execution_count": 3,
     "metadata": {},
     "output_type": "execute_result"
    }
   ],
   "source": [
    "json_data = json.loads(req.content.decode('utf-8'))\n",
    "data = json_data\n",
    "data\n"
   ]
  },
  {
   "cell_type": "code",
   "execution_count": 4,
   "id": "1ee04333",
   "metadata": {
    "collapsed": true
   },
   "outputs": [
    {
     "ename": "NameError",
     "evalue": "name 'json_normalize' is not defined",
     "output_type": "error",
     "traceback": [
      "\u001b[0;31m---------------------------------------------------------------------------\u001b[0m",
      "\u001b[0;31mNameError\u001b[0m                                 Traceback (most recent call last)",
      "\u001b[0;32m<ipython-input-4-117238420034>\u001b[0m in \u001b[0;36m<module>\u001b[0;34m\u001b[0m\n\u001b[0;32m----> 1\u001b[0;31m \u001b[0mnormalized_json\u001b[0m \u001b[0;34m=\u001b[0m \u001b[0mjson_normalize\u001b[0m\u001b[0;34m(\u001b[0m\u001b[0mdata\u001b[0m\u001b[0;34m[\u001b[0m\u001b[0;34m'result'\u001b[0m\u001b[0;34m]\u001b[0m\u001b[0;34m[\u001b[0m\u001b[0;34m'Campaigns'\u001b[0m\u001b[0;34m]\u001b[0m\u001b[0;34m)\u001b[0m\u001b[0;34m\u001b[0m\u001b[0m\n\u001b[0m\u001b[1;32m      2\u001b[0m \u001b[0mprint\u001b[0m\u001b[0;34m(\u001b[0m\u001b[0mnormalized_json\u001b[0m\u001b[0;34m)\u001b[0m\u001b[0;34m\u001b[0m\u001b[0m\n\u001b[1;32m      3\u001b[0m \u001b[0;34m\u001b[0m\u001b[0m\n\u001b[1;32m      4\u001b[0m \u001b[0mdf_with_data\u001b[0m \u001b[0;34m=\u001b[0m \u001b[0mpd\u001b[0m\u001b[0;34m.\u001b[0m\u001b[0mDataFrame\u001b[0m\u001b[0;34m(\u001b[0m\u001b[0mnormalized_json\u001b[0m\u001b[0;34m)\u001b[0m\u001b[0;34m\u001b[0m\u001b[0m\n\u001b[1;32m      5\u001b[0m \u001b[0mdf_with_data\u001b[0m\u001b[0;34m[\u001b[0m\u001b[0;34m'DailyBudget'\u001b[0m\u001b[0;34m]\u001b[0m \u001b[0;34m=\u001b[0m \u001b[0mdf_with_data\u001b[0m\u001b[0;34m[\u001b[0m\u001b[0;34m'DailyBudget.Amount'\u001b[0m\u001b[0;34m]\u001b[0m \u001b[0;34m/\u001b[0m \u001b[0;36m1000000\u001b[0m\u001b[0;34m\u001b[0m\u001b[0m\n",
      "\u001b[0;31mNameError\u001b[0m: name 'json_normalize' is not defined"
     ]
    }
   ],
   "source": [
    "normalized_json = json_normalize(data['result']['Campaigns'])\n",
    "print(normalized_json)\n",
    "\n",
    "df_with_data = pd.DataFrame(normalized_json)\n",
    "df_with_data['DailyBudget'] = df_with_data['DailyBudget.Amount'] / 1000000\n",
    "df_with_data = df_with_data.fillna(0)\n",
    "df_with_data"
   ]
  },
  {
   "cell_type": "code",
   "execution_count": 5,
   "id": "ffb83cd5",
   "metadata": {
    "collapsed": true
   },
   "outputs": [],
   "source": [
    "# добавляю рандомный дневной бюджет\n",
    "\n",
    "#start_df['DailyBudget'] = np.random.choice([1000, 3000, 5000, 5000, 1488, 0], start_df.shape[0])\n",
    "#df_for_check = start_df\n",
    "#df_for_check"
   ]
  },
  {
   "cell_type": "code",
   "execution_count": 6,
   "id": "0998bc58",
   "metadata": {},
   "outputs": [
    {
     "data": {
      "text/html": [
       "<div>\n",
       "<style scoped>\n",
       "    .dataframe tbody tr th:only-of-type {\n",
       "        vertical-align: middle;\n",
       "    }\n",
       "\n",
       "    .dataframe tbody tr th {\n",
       "        vertical-align: top;\n",
       "    }\n",
       "\n",
       "    .dataframe thead th {\n",
       "        text-align: right;\n",
       "    }\n",
       "</style>\n",
       "<table border=\"1\" class=\"dataframe\">\n",
       "  <thead>\n",
       "    <tr style=\"text-align: right;\">\n",
       "      <th></th>\n",
       "      <th>Name</th>\n",
       "      <th>DailyBudget.Mode</th>\n",
       "      <th>DailyBudget.Amount</th>\n",
       "      <th>DailyBudget</th>\n",
       "    </tr>\n",
       "  </thead>\n",
       "  <tbody>\n",
       "  </tbody>\n",
       "</table>\n",
       "</div>"
      ],
      "text/plain": [
       "Empty DataFrame\n",
       "Columns: [Name, DailyBudget.Mode, DailyBudget.Amount, DailyBudget]\n",
       "Index: []"
      ]
     },
     "execution_count": 6,
     "metadata": {},
     "output_type": "execute_result"
    }
   ],
   "source": [
    "# вывожу df если есть нулевой дневной бюджет\n",
    "\n",
    "null_df = df_with_data.loc[df_with_data['DailyBudget'] <= 0]\n",
    "null_df"
   ]
  },
  {
   "cell_type": "code",
   "execution_count": 7,
   "id": "f841d2ba",
   "metadata": {
    "collapsed": true
   },
   "outputs": [
    {
     "ename": "NameError",
     "evalue": "name 'df' is not defined",
     "output_type": "error",
     "traceback": [
      "\u001b[1;31m---------------------------------------------------------------------------\u001b[0m",
      "\u001b[1;31mNameError\u001b[0m                                 Traceback (most recent call last)",
      "\u001b[1;32m~\\AppData\\Local\\Temp/ipykernel_8932/3398780873.py\u001b[0m in \u001b[0;36m<module>\u001b[1;34m\u001b[0m\n\u001b[0;32m      6\u001b[0m \u001b[1;32melse\u001b[0m\u001b[1;33m:\u001b[0m\u001b[1;33m\u001b[0m\u001b[1;33m\u001b[0m\u001b[0m\n\u001b[0;32m      7\u001b[0m     \u001b[0mdf\u001b[0m \u001b[1;33m=\u001b[0m \u001b[0mpd\u001b[0m\u001b[1;33m.\u001b[0m\u001b[0mDataFrame\u001b[0m\u001b[1;33m(\u001b[0m\u001b[0mnull_df\u001b[0m\u001b[1;33m)\u001b[0m\u001b[1;33m\u001b[0m\u001b[1;33m\u001b[0m\u001b[0m\n\u001b[1;32m----> 8\u001b[1;33m \u001b[0mdf\u001b[0m \u001b[1;33m=\u001b[0m \u001b[0mdf\u001b[0m\u001b[1;33m.\u001b[0m\u001b[0mto_html\u001b[0m\u001b[1;33m(\u001b[0m\u001b[1;33m)\u001b[0m\u001b[1;33m\u001b[0m\u001b[1;33m\u001b[0m\u001b[0m\n\u001b[0m",
      "\u001b[1;31mNameError\u001b[0m: name 'df' is not defined"
     ]
    }
   ],
   "source": [
    "# если НЕ создается, то ничего не происходит и тут будет ошибка, если он создается, то из него получается html-файл\n",
    "# который идет на почту\n",
    "\n",
    "if null_df.empty:\n",
    "    exit()\n",
    "else:\n",
    "    df = pd.DataFrame(null_df)\n",
    "df = df.to_html()"
   ]
  },
  {
   "cell_type": "code",
   "execution_count": null,
   "id": "b59d5861",
   "metadata": {
    "collapsed": true
   },
   "outputs": [],
   "source": [
    "# подключение к почте\n",
    "\n",
    "email = \"\"\n",
    "password = \"\"\n",
    "FROM = \"\"\n",
    "TO   = \"\"\n",
    "subject = \"test\""
   ]
  },
  {
   "cell_type": "code",
   "execution_count": null,
   "id": "d7f32bbf",
   "metadata": {
    "collapsed": true
   },
   "outputs": [],
   "source": [
    "msg = MIMEMultipart(\"alternative\")\n",
    "\n",
    "# адрес отправителя\n",
    "msg[\"From\"] = FROM\n",
    "\n",
    "# адрес получателя\n",
    "msg[\"To\"] = TO\n",
    "\n",
    "# тема\n",
    "msg[\"Subject\"] = subject"
   ]
  },
  {
   "cell_type": "code",
   "execution_count": null,
   "id": "21e71fe2",
   "metadata": {
    "collapsed": true
   },
   "outputs": [],
   "source": [
    "# прикладываем созданный html-файл\n",
    "\n",
    "text = bs(df, \"html.parser\").text\n",
    "html_part = MIMEText(df, \"html\")\n",
    "msg.attach(html_part)\n",
    "print(msg.as_string())"
   ]
  },
  {
   "cell_type": "code",
   "execution_count": null,
   "id": "d80e7ff8",
   "metadata": {
    "collapsed": true
   },
   "outputs": [],
   "source": [
    "# объявляем функцию \n",
    "\n",
    "def send_mail(email, password, FROM, TO, msg):\n",
    "    server = smtplib.SMTP(\"smtp.gmail.com\", 587)\n",
    "    server.starttls()\n",
    "    server.login(email, password)\n",
    "    server.sendmail(FROM, TO, msg.as_string())\n",
    "    server.quit()"
   ]
  },
  {
   "cell_type": "code",
   "execution_count": null,
   "id": "5089f254",
   "metadata": {
    "collapsed": true
   },
   "outputs": [],
   "source": [
    "# выполняем функцию\n",
    "\n",
    "send_mail(email, password, FROM, TO, msg)"
   ]
  },
  {
   "cell_type": "code",
   "execution_count": null,
   "id": "0d780a40",
   "metadata": {
    "collapsed": true
   },
   "outputs": [],
   "source": []
  },
  {
   "cell_type": "code",
   "execution_count": null,
   "id": "b5a21fe6",
   "metadata": {
    "collapsed": true
   },
   "outputs": [],
   "source": []
  },
  {
   "cell_type": "code",
   "execution_count": null,
   "id": "3942d28a",
   "metadata": {
    "collapsed": true
   },
   "outputs": [],
   "source": []
  }
 ],
 "metadata": {
  "kernelspec": {
   "display_name": "Python 3",
   "language": "python",
   "name": "python3"
  },
  "language_info": {
   "codemirror_mode": {
    "name": "ipython",
    "version": 3
   },
   "file_extension": ".py",
   "mimetype": "text/x-python",
   "name": "python",
   "nbconvert_exporter": "python",
   "pygments_lexer": "ipython3",
   "version": "3.8.8"
  }
 },
 "nbformat": 4,
 "nbformat_minor": 5
}
